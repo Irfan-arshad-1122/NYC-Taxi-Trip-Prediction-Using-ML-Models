{
 "cells": [
  {
   "cell_type": "markdown",
   "id": "f1f79ae3",
   "metadata": {},
   "source": [
    "## Name: Irfan Arshad"
   ]
  },
  {
   "cell_type": "code",
   "execution_count": null,
   "id": "80e49030",
   "metadata": {},
   "outputs": [],
   "source": [
    "# Upload kaggle.json\n",
    "from google.colab import files\n",
    "files.upload()\n",
    "\n",
    "# Move kaggle.json to the appropriate directory\n",
    "!mkdir -p ~/.kaggle\n",
    "!mv kaggle.json ~/.kaggle/\n",
    "!chmod 600 ~/.kaggle/kaggle.json"
   ]
  },
  {
   "cell_type": "code",
   "execution_count": null,
   "id": "78f68c9f",
   "metadata": {},
   "outputs": [],
   "source": [
    "# Download the dataset\n",
    "!kaggle competitions download -c nyc-taxi-trip-duration\n",
    "\n",
    "# Unzip the downloaded file\n",
    "!unzip nyc-taxi-trip-duration.zip"
   ]
  },
  {
   "cell_type": "code",
   "execution_count": null,
   "id": "86207196",
   "metadata": {},
   "outputs": [],
   "source": [
    "!unzip train.zip\n",
    "!unzip test.zip\n",
    "!unzip sample_submission.zip"
   ]
  },
  {
   "cell_type": "markdown",
   "id": "4cd83577",
   "metadata": {},
   "source": [
    "## Importing Libraries"
   ]
  },
  {
   "cell_type": "code",
   "execution_count": 1,
   "id": "80f71b82",
   "metadata": {},
   "outputs": [],
   "source": [
    "import pandas as pd\n",
    "import numpy as np\n",
    "import matplotlib.pyplot as plt\n",
    "import seaborn as sns\n",
    "from sklearn.model_selection import train_test_split, GridSearchCV\n",
    "from sklearn.linear_model import LinearRegression\n",
    "from sklearn.tree import DecisionTreeRegressor\n",
    "from sklearn.ensemble import RandomForestRegressor\n",
    "from sklearn.preprocessing import StandardScaler, OneHotEncoder\n",
    "from sklearn.compose import ColumnTransformer\n",
    "from sklearn.pipeline import Pipeline\n",
    "from sklearn.metrics import mean_absolute_error, mean_squared_error, r2_score"
   ]
  },
  {
   "cell_type": "code",
   "execution_count": 2,
   "id": "a5e25709",
   "metadata": {},
   "outputs": [],
   "source": [
    "# Load the train dataset into a pandas DataFrame\n",
    "train = pd.read_csv('train.csv')\n",
    "test = pd.read_csv('test.csv')"
   ]
  },
  {
   "cell_type": "code",
   "execution_count": 15,
   "id": "4161161b",
   "metadata": {},
   "outputs": [],
   "source": [
    "# Extracting new features from datetime columns\n",
    "train['pickup_hour'] = train['pickup_datetime'].dt.hour\n",
    "train['pickup_day_of_week'] = train['pickup_datetime'].dt.dayofweek\n",
    "train['trip_duration_log'] = np.log1p(train['trip_duration']) # Log transform for skewed target variable"
   ]
  },
  {
   "cell_type": "code",
   "execution_count": 16,
   "id": "a7058bda",
   "metadata": {},
   "outputs": [],
   "source": [
    "test['pickup_hour'] = test['pickup_datetime'].dt.hour\n",
    "test['pickup_day_of_week'] = test['pickup_datetime'].dt.dayofweek"
   ]
  },
  {
   "cell_type": "code",
   "execution_count": 17,
   "id": "040e9f64",
   "metadata": {},
   "outputs": [],
   "source": [
    "# Calculate trip speed (in mph)\n",
    "train['trip_distance'] = np.sqrt((train['pickup_longitude'] - train['dropoff_longitude'])**2 +\n",
    "                                 (train['pickup_latitude'] - train['dropoff_latitude'])**2)\n",
    "train['trip_speed'] = train['trip_distance'] / (train['trip_duration'] / 3600)"
   ]
  },
  {
   "cell_type": "code",
   "execution_count": 41,
   "id": "ac3b4e4a",
   "metadata": {},
   "outputs": [],
   "source": [
    "# Drop rows with zero trip_duration and unrealistic speeds\n",
    "train = train[(train['trip_duration'] > 0) & (train['trip_speed'] < 100)]"
   ]
  },
  {
   "cell_type": "code",
   "execution_count": 19,
   "id": "63ff848d",
   "metadata": {},
   "outputs": [],
   "source": [
    "# Prepare features and target variable\n",
    "X = train[['vendor_id', 'pickup_hour', 'pickup_day_of_week', 'passenger_count', 'pickup_longitude', 'pickup_latitude', 'dropoff_longitude', 'dropoff_latitude']]\n",
    "y = train['trip_duration_log']\n"
   ]
  },
  {
   "cell_type": "code",
   "execution_count": 20,
   "id": "4dfa8a31",
   "metadata": {},
   "outputs": [],
   "source": [
    "# Prepare the test set features\n",
    "X_test = test[['vendor_id', 'pickup_hour', 'pickup_day_of_week', 'passenger_count', 'pickup_longitude', 'pickup_latitude', 'dropoff_longitude', 'dropoff_latitude']]"
   ]
  },
  {
   "cell_type": "code",
   "execution_count": 21,
   "id": "aa87d9e9",
   "metadata": {},
   "outputs": [],
   "source": [
    "# Define preprocessing steps\n",
    "numeric_features = ['pickup_hour', 'pickup_day_of_week', 'passenger_count', 'pickup_longitude', 'pickup_latitude', 'dropoff_longitude', 'dropoff_latitude']\n",
    "categorical_features = ['vendor_id']"
   ]
  },
  {
   "cell_type": "code",
   "execution_count": 22,
   "id": "e8e0ffea",
   "metadata": {},
   "outputs": [],
   "source": [
    "numeric_transformer = Pipeline(steps=[\n",
    "    ('scaler', StandardScaler())])"
   ]
  },
  {
   "cell_type": "code",
   "execution_count": 23,
   "id": "88a850cf",
   "metadata": {},
   "outputs": [],
   "source": [
    "categorical_transformer = Pipeline(steps=[\n",
    "    ('onehot', OneHotEncoder(handle_unknown='ignore'))])"
   ]
  },
  {
   "cell_type": "code",
   "execution_count": 24,
   "id": "727a7399",
   "metadata": {},
   "outputs": [],
   "source": [
    "preprocessor = ColumnTransformer(\n",
    "    transformers=[\n",
    "        ('num', numeric_transformer, numeric_features),\n",
    "        ('cat', categorical_transformer, categorical_features)])"
   ]
  },
  {
   "cell_type": "code",
   "execution_count": 25,
   "id": "9522004e",
   "metadata": {},
   "outputs": [],
   "source": [
    "# Split the data into training and validation sets\n",
    "X_train, X_val, y_train, y_val = train_test_split(X, y, test_size=0.2, random_state=42)"
   ]
  },
  {
   "cell_type": "code",
   "execution_count": 26,
   "id": "04d7e577",
   "metadata": {},
   "outputs": [
    {
     "data": {
      "text/plain": [
       "(1166915, 8)"
      ]
     },
     "execution_count": 26,
     "metadata": {},
     "output_type": "execute_result"
    }
   ],
   "source": [
    "X_train.shape"
   ]
  },
  {
   "cell_type": "code",
   "execution_count": 27,
   "id": "d70b8af8",
   "metadata": {},
   "outputs": [
    {
     "data": {
      "text/plain": [
       "(291729, 8)"
      ]
     },
     "execution_count": 27,
     "metadata": {},
     "output_type": "execute_result"
    }
   ],
   "source": [
    "X_val.shape"
   ]
  },
  {
   "cell_type": "markdown",
   "id": "d6870351",
   "metadata": {},
   "source": [
    "## Model Building"
   ]
  },
  {
   "cell_type": "code",
   "execution_count": 28,
   "id": "8485345f",
   "metadata": {},
   "outputs": [],
   "source": [
    "models = {\n",
    "    'Linear Regression': LinearRegression(),\n",
    "    'Decision Tree': DecisionTreeRegressor(random_state=42),\n",
    "    'Random Forest': RandomForestRegressor(random_state=42)\n",
    "}"
   ]
  },
  {
   "cell_type": "code",
   "execution_count": 29,
   "id": "409fc137",
   "metadata": {},
   "outputs": [],
   "source": [
    "# Function to train and evaluate models\n",
    "def evaluate_model(model, X_train, y_train, X_val, y_val):\n",
    "    pipeline = Pipeline(steps=[('preprocessor', preprocessor),\n",
    "                               ('model', model)])\n",
    "    pipeline.fit(X_train, y_train)\n",
    "    y_pred = pipeline.predict(X_val)\n",
    "    mae = mean_absolute_error(y_val, y_pred)\n",
    "    mse = mean_squared_error(y_val, y_pred)\n",
    "    r2 = r2_score(y_val, y_pred)\n",
    "    return mae, mse, r2"
   ]
  },
  {
   "cell_type": "code",
   "execution_count": 30,
   "id": "d1113713",
   "metadata": {},
   "outputs": [],
   "source": [
    "# Evaluate each model\n",
    "results = {}\n",
    "for model_name, model in models.items():\n",
    "    mae, mse, r2 = evaluate_model(model, X_train, y_train, X_val, y_val)\n",
    "    results[model_name] = {'MAE': mae, 'MSE': mse, 'R2': r2}\n"
   ]
  },
  {
   "cell_type": "code",
   "execution_count": 31,
   "id": "954c314a",
   "metadata": {},
   "outputs": [
    {
     "data": {
      "text/html": [
       "<div>\n",
       "<style scoped>\n",
       "    .dataframe tbody tr th:only-of-type {\n",
       "        vertical-align: middle;\n",
       "    }\n",
       "\n",
       "    .dataframe tbody tr th {\n",
       "        vertical-align: top;\n",
       "    }\n",
       "\n",
       "    .dataframe thead th {\n",
       "        text-align: right;\n",
       "    }\n",
       "</style>\n",
       "<table border=\"1\" class=\"dataframe\">\n",
       "  <thead>\n",
       "    <tr style=\"text-align: right;\">\n",
       "      <th></th>\n",
       "      <th>MAE</th>\n",
       "      <th>MSE</th>\n",
       "      <th>R2</th>\n",
       "    </tr>\n",
       "  </thead>\n",
       "  <tbody>\n",
       "    <tr>\n",
       "      <th>Linear Regression</th>\n",
       "      <td>0.589707</td>\n",
       "      <td>0.604152</td>\n",
       "      <td>0.047957</td>\n",
       "    </tr>\n",
       "    <tr>\n",
       "      <th>Decision Tree</th>\n",
       "      <td>0.376044</td>\n",
       "      <td>0.359408</td>\n",
       "      <td>0.433634</td>\n",
       "    </tr>\n",
       "    <tr>\n",
       "      <th>Random Forest</th>\n",
       "      <td>0.256209</td>\n",
       "      <td>0.170119</td>\n",
       "      <td>0.731921</td>\n",
       "    </tr>\n",
       "  </tbody>\n",
       "</table>\n",
       "</div>"
      ],
      "text/plain": [
       "                        MAE       MSE        R2\n",
       "Linear Regression  0.589707  0.604152  0.047957\n",
       "Decision Tree      0.376044  0.359408  0.433634\n",
       "Random Forest      0.256209  0.170119  0.731921"
      ]
     },
     "execution_count": 31,
     "metadata": {},
     "output_type": "execute_result"
    }
   ],
   "source": [
    "# Display the results\n",
    "results_df = pd.DataFrame(results).T\n",
    "results_df"
   ]
  },
  {
   "cell_type": "markdown",
   "id": "a2436f5e",
   "metadata": {},
   "source": [
    "##  Model Evaluation"
   ]
  },
  {
   "cell_type": "code",
   "execution_count": 32,
   "id": "445839bd",
   "metadata": {},
   "outputs": [
    {
     "data": {
      "image/png": "[encoded data removed]",
      "text/plain": [
       "<Figure size 1200x800 with 1 Axes>"
      ]
     },
     "metadata": {},
     "output_type": "display_data"
    }
   ],
   "source": [
    "results_df.plot(kind='bar', figsize=(12, 8))\n",
    "plt.title('Model Performance Comparison')\n",
    "plt.ylabel('Score')\n",
    "plt.xticks(rotation=45)\n",
    "plt.show()"
   ]
  },
  {
   "cell_type": "markdown",
   "id": "e5d6b573",
   "metadata": {},
   "source": [
    "## Model Optimization"
   ]
  },
  {
   "cell_type": "code",
   "execution_count": 39,
   "id": "0c6a4279",
   "metadata": {},
   "outputs": [],
   "source": [
    "from sklearn.model_selection import train_test_split, GridSearchCV, RandomizedSearchCV"
   ]
  },
  {
   "cell_type": "code",
   "execution_count": 42,
   "id": "43caf9fe",
   "metadata": {},
   "outputs": [],
   "source": [
    "# Model Optimization\n",
    "# Reduce the size of the dataset for hyperparameter tuning\n",
    "X_train_sample, _, y_train_sample, _ = train_test_split(X_train, y_train, train_size=0.1, random_state=42)"
   ]
  },
  {
   "cell_type": "code",
   "execution_count": 43,
   "id": "b7b231af",
   "metadata": {},
   "outputs": [],
   "source": [
    "# Limit the grid search parameters to reduce memory usage\n",
    "param_grid = {\n",
    "    'model__n_estimators': [50, 100],\n",
    "    'model__max_depth': [10, 20],\n",
    "    'model__min_samples_split': [2, 5],\n",
    "    'model__min_samples_leaf': [1, 2]\n",
    "}"
   ]
  },
  {
   "cell_type": "code",
   "execution_count": 44,
   "id": "c0f042f4",
   "metadata": {},
   "outputs": [],
   "source": [
    "# Use RandomizedSearchCV instead of GridSearchCV\n",
    "random_search = RandomizedSearchCV(Pipeline(steps=[('preprocessor', preprocessor),\n",
    "                                                   ('model', RandomForestRegressor(random_state=42))]),\n",
    "                                   param_distributions=param_grid, n_iter=10, cv=3, n_jobs=-1, scoring='neg_mean_absolute_error', random_state=42)\n",
    "\n",
    "# Fit the random search model on the smaller sample\n",
    "random_search.fit(X_train_sample, y_train_sample)\n",
    "best_model = random_search.best_estimator_"
   ]
  },
  {
   "cell_type": "code",
   "execution_count": 45,
   "id": "9d74acfb",
   "metadata": {},
   "outputs": [],
   "source": [
    "# Evaluate the optimized model\n",
    "y_pred_opt = best_model.predict(X_val)\n",
    "mae_opt = mean_absolute_error(y_val, y_pred_opt)\n",
    "mse_opt = mean_squared_error(y_val, y_pred_opt)\n",
    "r2_opt = r2_score(y_val, y_pred_opt)"
   ]
  },
  {
   "cell_type": "code",
   "execution_count": 46,
   "id": "d0b12dd9",
   "metadata": {},
   "outputs": [
    {
     "data": {
      "text/plain": [
       "{'MAE': 0.31148105026874445,\n",
       " 'MSE': 0.22696633256416934,\n",
       " 'R2': 0.6423389970888784}"
      ]
     },
     "execution_count": 46,
     "metadata": {},
     "output_type": "execute_result"
    }
   ],
   "source": [
    "optimized_results = {'MAE': mae_opt, 'MSE': mse_opt, 'R2': r2_opt}\n",
    "optimized_results"
   ]
  },
  {
   "cell_type": "markdown",
   "id": "3e58249e",
   "metadata": {},
   "source": [
    "## Prediction Task"
   ]
  },
  {
   "cell_type": "code",
   "execution_count": 49,
   "id": "2bc3e696",
   "metadata": {},
   "outputs": [
    {
     "data": {
      "text/html": [
       "<div>\n",
       "<style scoped>\n",
       "    .dataframe tbody tr th:only-of-type {\n",
       "        vertical-align: middle;\n",
       "    }\n",
       "\n",
       "    .dataframe tbody tr th {\n",
       "        vertical-align: top;\n",
       "    }\n",
       "\n",
       "    .dataframe thead th {\n",
       "        text-align: right;\n",
       "    }\n",
       "</style>\n",
       "<table border=\"1\" class=\"dataframe\">\n",
       "  <thead>\n",
       "    <tr style=\"text-align: right;\">\n",
       "      <th></th>\n",
       "      <th>id</th>\n",
       "      <th>trip_duration</th>\n",
       "    </tr>\n",
       "  </thead>\n",
       "  <tbody>\n",
       "    <tr>\n",
       "      <th>0</th>\n",
       "      <td>id3004672</td>\n",
       "      <td>755.319800</td>\n",
       "    </tr>\n",
       "    <tr>\n",
       "      <th>1</th>\n",
       "      <td>id3505355</td>\n",
       "      <td>487.680724</td>\n",
       "    </tr>\n",
       "    <tr>\n",
       "      <th>2</th>\n",
       "      <td>id1217141</td>\n",
       "      <td>478.541569</td>\n",
       "    </tr>\n",
       "    <tr>\n",
       "      <th>3</th>\n",
       "      <td>id2150126</td>\n",
       "      <td>1051.465202</td>\n",
       "    </tr>\n",
       "    <tr>\n",
       "      <th>4</th>\n",
       "      <td>id1598245</td>\n",
       "      <td>339.395616</td>\n",
       "    </tr>\n",
       "  </tbody>\n",
       "</table>\n",
       "</div>"
      ],
      "text/plain": [
       "          id  trip_duration\n",
       "0  id3004672     755.319800\n",
       "1  id3505355     487.680724\n",
       "2  id1217141     478.541569\n",
       "3  id2150126    1051.465202\n",
       "4  id1598245     339.395616"
      ]
     },
     "execution_count": 49,
     "metadata": {},
     "output_type": "execute_result"
    }
   ],
   "source": [
    "# Predict trip durations on the test set\n",
    "test['trip_duration'] = np.expm1(best_model.predict(X_test))\n",
    "\n",
    "# Prepare the submission file\n",
    "submission = test[['id', 'trip_duration']]\n",
    "submission.to_csv('submission.csv', index=False)\n",
    "\n",
    "submission.head()"
   ]
  },
  {
   "cell_type": "code",
   "execution_count": 50,
   "id": "a07f8ecd",
   "metadata": {},
   "outputs": [
    {
     "data": {
      "text/plain": [
       "(625134, 2)"
      ]
     },
     "execution_count": 50,
     "metadata": {},
     "output_type": "execute_result"
    }
   ],
   "source": [
    "submission.shape"
   ]
  },
  {
   "cell_type": "code",
   "execution_count": 51,
   "id": "6d17d757",
   "metadata": {},
   "outputs": [],
   "source": [
    "import joblib"
   ]
  },
  {
   "cell_type": "code",
   "execution_count": null,
   "id": "7ab1bb27",
   "metadata": {},
   "outputs": [],
   "source": [
    "# Save the models using joblib\n",
    "joblib.dump(models, 'trained_models.pkl')\n",
    "\n",
    "print(\"Models saved successfully.\")"
   ]
  },
  {
   "cell_type": "code",
   "execution_count": null,
   "id": "681cb5d5",
   "metadata": {},
   "outputs": [],
   "source": [
    "!dir"
   ]
  },
  {
   "cell_type": "markdown",
   "id": "cd7763e8",
   "metadata": {},
   "source": [
    "## Conclusion\n",
    "In conclusion, we successfully built and evaluated machine learning models to predict trip duration for NYC taxi rides.\n",
    " Feature engineering played a crucial role in improving model performance.\n",
    " Through careful evaluation and optimization, we were able to achieve accurate predictions\n",
    "\n",
    "\n",
    "\n",
    "\n",
    "\n"
   ]
  },
  {
   "cell_type": "markdown",
   "id": "9cd85384",
   "metadata": {},
   "source": [
    "________________________________________________________________________________________________________________________________"
   ]
  }
 ],
 "metadata": {
  "kernelspec": {
   "display_name": "Python 3 (ipykernel)",
   "language": "python",
   "name": "python3"
  },
  "language_info": {
   "codemirror_mode": {
    "name": "ipython",
    "version": 3
   },
   "file_extension": ".py",
   "mimetype": "text/x-python",
   "name": "python",
   "nbconvert_exporter": "python",
   "pygments_lexer": "ipython3",
   "version": "3.11.4"
  }
 },
 "nbformat": 4,
 "nbformat_minor": 5
}
